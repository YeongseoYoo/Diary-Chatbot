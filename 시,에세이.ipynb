{
 "cells": [
  {
   "cell_type": "code",
   "execution_count": 34,
   "id": "8c2a4458",
   "metadata": {},
   "outputs": [],
   "source": [
    "import requests\n",
    "from bs4 import BeautifulSoup\n",
    "import re"
   ]
  },
  {
   "cell_type": "code",
   "execution_count": 35,
   "id": "51eac176",
   "metadata": {},
   "outputs": [],
   "source": [
    "import time\n",
    "import pandas\n",
    "from tqdm import tqdm\n",
    "from selenium import webdriver"
   ]
  },
  {
   "cell_type": "code",
   "execution_count": 36,
   "id": "794bfca4",
   "metadata": {},
   "outputs": [],
   "source": [
    "from selenium.webdriver.common.keys import Keys\n",
    "from selenium.webdriver.common.action_chains import ActionChains\n",
    "from selenium.webdriver.common.by import By\n",
    "from selenium.webdriver.support.ui import WebDriverWait\n",
    "from selenium.webdriver.support import expected_conditions as EC"
   ]
  },
  {
   "cell_type": "code",
   "execution_count": 39,
   "id": "31baab3d",
   "metadata": {},
   "outputs": [],
   "source": [
    "def kyoboCrawling(a):\n",
    "    global book_list\n",
    "    for i in range(1, a):\n",
    "        title_xpath = '//*[@id=\"prd_list_type1\"]/li[' + str(2*i-1) + ']/div/div[1]/div[2]/div[1]/a/strong'\n",
    "        title_btn = driver.find_element(\"xpath\",title_xpath)\n",
    "        actions = webdriver.ActionChains(driver)\n",
    "        actions.move_to_element(title_btn).pause(2).click().perform()\n",
    "\n",
    "        book_title = driver.find_element(\"xpath\",'/html/body/div[2]/div[1]/div[2]/div[2]/form/div[1]/h1/strong').text\n",
    "        book_info = driver.find_elements(By.CSS_SELECTOR, \".box_detail_article\")\n",
    "        book_review = []\n",
    "        book_review.append(book_info[0])\n",
    "        \n",
    "        for i in book_review:\n",
    "            review = i.text\n",
    "            book_list.append([book_title, review])           \n",
    "        \n",
    "        driver.back()\n",
    "        time.sleep(1)"
   ]
  },
  {
   "cell_type": "code",
   "execution_count": 40,
   "id": "fd5cac5d",
   "metadata": {},
   "outputs": [
    {
     "name": "stderr",
     "output_type": "stream",
     "text": [
      "C:\\Users\\PC\\AppData\\Local\\Temp/ipykernel_17976/1094503051.py:2: DeprecationWarning: executable_path has been deprecated, please pass in a Service object\n",
      "  driver = webdriver.Chrome(\"C:/Users/PC/.jupyter/chromedriver_win32/chromedriver.exe\")\n"
     ]
    }
   ],
   "source": [
    "url = 'http://www.kyobobook.co.kr/categoryRenewal/categoryMain.laf?perPage=20&mallGb=KOR&linkClass=03&menuCode=002'\n",
    "driver = webdriver.Chrome(\"C:/Users/PC/.jupyter/chromedriver_win32/chromedriver.exe\")\n",
    "driver.implicitly_wait(3)\n",
    "driver.get(url)\n",
    "book_list = []\n",
    "for i in range(1,9):\n",
    "    driver.execute_script(\"_go_targetPage('{}')\".format(i))\n",
    "    if i == 8:\n",
    "        a = 11\n",
    "    else:\n",
    "        a = 21\n",
    "        \n",
    "    kyoboCrawling(a)\n",
    "     \n",
    "        "
   ]
  },
  {
   "cell_type": "code",
   "execution_count": 41,
   "id": "2cb65200",
   "metadata": {},
   "outputs": [
    {
     "data": {
      "text/html": [
       "<div>\n",
       "<style scoped>\n",
       "    .dataframe tbody tr th:only-of-type {\n",
       "        vertical-align: middle;\n",
       "    }\n",
       "\n",
       "    .dataframe tbody tr th {\n",
       "        vertical-align: top;\n",
       "    }\n",
       "\n",
       "    .dataframe thead th {\n",
       "        text-align: right;\n",
       "    }\n",
       "</style>\n",
       "<table border=\"1\" class=\"dataframe\">\n",
       "  <thead>\n",
       "    <tr style=\"text-align: right;\">\n",
       "      <th></th>\n",
       "      <th>0</th>\n",
       "      <th>1</th>\n",
       "    </tr>\n",
       "  </thead>\n",
       "  <tbody>\n",
       "    <tr>\n",
       "      <th>0</th>\n",
       "      <td>나라면 나와 결혼할까?</td>\n",
       "      <td>저자는 풍부한 경험과 감성적인 글로 사랑하는 이들의 이야기를 들려준다. 그녀의 책은...</td>\n",
       "    </tr>\n",
       "    <tr>\n",
       "      <th>1</th>\n",
       "      <td>기분을 관리하면 인생이 관리된다</td>\n",
       "      <td>기분에 따라 그날 하루가 달라진다. 기분이 별로 좋지 않은 날엔 어떤 일을 해도 과...</td>\n",
       "    </tr>\n",
       "    <tr>\n",
       "      <th>2</th>\n",
       "      <td>당신이라는 기적</td>\n",
       "      <td>생애 첫 책을 통해 단숨에 베스트셀러 작가로 등극한 정한경의 두 번째 에세이. 삶에...</td>\n",
       "    </tr>\n",
       "    <tr>\n",
       "      <th>3</th>\n",
       "      <td>나는 당신이 행복했으면 좋겠습니다</td>\n",
       "      <td>「나는 당신이 행복했으면 좋겠습니다」는 저자가 삶 속에서 사랑과 사람, 그리고 '나...</td>\n",
       "    </tr>\n",
       "    <tr>\n",
       "      <th>4</th>\n",
       "      <td>당신은 결국 무엇이든 해내는 사람</td>\n",
       "      <td>『내가 죽으면 장례식에 누가 와줄까』를 통해 수많은 독자의 사랑을 받은 김상현 작가...</td>\n",
       "    </tr>\n",
       "    <tr>\n",
       "      <th>...</th>\n",
       "      <td>...</td>\n",
       "      <td>...</td>\n",
       "    </tr>\n",
       "    <tr>\n",
       "      <th>145</th>\n",
       "      <td>오래된 미래</td>\n",
       "      <td>서부 히말라야 고원의 작은 지역 라다크. 저자는 빈약한 자원과 혹독한 기후에도 불구...</td>\n",
       "    </tr>\n",
       "    <tr>\n",
       "      <th>146</th>\n",
       "      <td>스스로 행복하라</td>\n",
       "      <td>《스스로 행복하라》가 10만 부 출간을 기념하여 새로운 표지로 갈아입고 양장본으로 ...</td>\n",
       "    </tr>\n",
       "    <tr>\n",
       "      <th>147</th>\n",
       "      <td>불안</td>\n",
       "      <td>&lt;여행의 기술&gt;, &lt;무신론자를 위한 종교&gt;의 저자 알랭 드 보통의 에세이『불안』. ...</td>\n",
       "    </tr>\n",
       "    <tr>\n",
       "      <th>148</th>\n",
       "      <td>어금니 깨물기</td>\n",
       "      <td>김소연 시인의 새로운 산문집 『어금니 깨물기』가 마음산책에서 출간되었다. 『마음사전...</td>\n",
       "    </tr>\n",
       "    <tr>\n",
       "      <th>149</th>\n",
       "      <td>감옥으로부터의 사색</td>\n",
       "      <td>“그 세월 자체로도 우리의 가슴을 저미는 20년 징역살이 동안 땅에 묻은 살이 삭고...</td>\n",
       "    </tr>\n",
       "  </tbody>\n",
       "</table>\n",
       "<p>150 rows × 2 columns</p>\n",
       "</div>"
      ],
      "text/plain": [
       "                      0                                                  1\n",
       "0          나라면 나와 결혼할까?  저자는 풍부한 경험과 감성적인 글로 사랑하는 이들의 이야기를 들려준다. 그녀의 책은...\n",
       "1     기분을 관리하면 인생이 관리된다  기분에 따라 그날 하루가 달라진다. 기분이 별로 좋지 않은 날엔 어떤 일을 해도 과...\n",
       "2              당신이라는 기적  생애 첫 책을 통해 단숨에 베스트셀러 작가로 등극한 정한경의 두 번째 에세이. 삶에...\n",
       "3    나는 당신이 행복했으면 좋겠습니다  「나는 당신이 행복했으면 좋겠습니다」는 저자가 삶 속에서 사랑과 사람, 그리고 '나...\n",
       "4    당신은 결국 무엇이든 해내는 사람  『내가 죽으면 장례식에 누가 와줄까』를 통해 수많은 독자의 사랑을 받은 김상현 작가...\n",
       "..                  ...                                                ...\n",
       "145              오래된 미래  서부 히말라야 고원의 작은 지역 라다크. 저자는 빈약한 자원과 혹독한 기후에도 불구...\n",
       "146            스스로 행복하라  《스스로 행복하라》가 10만 부 출간을 기념하여 새로운 표지로 갈아입고 양장본으로 ...\n",
       "147                  불안  <여행의 기술>, <무신론자를 위한 종교>의 저자 알랭 드 보통의 에세이『불안』. ...\n",
       "148             어금니 깨물기  김소연 시인의 새로운 산문집 『어금니 깨물기』가 마음산책에서 출간되었다. 『마음사전...\n",
       "149          감옥으로부터의 사색  “그 세월 자체로도 우리의 가슴을 저미는 20년 징역살이 동안 땅에 묻은 살이 삭고...\n",
       "\n",
       "[150 rows x 2 columns]"
      ]
     },
     "execution_count": 41,
     "metadata": {},
     "output_type": "execute_result"
    }
   ],
   "source": [
    "df = pandas.DataFrame(book_list)\n",
    "df     "
   ]
  },
  {
   "cell_type": "code",
   "execution_count": 42,
   "id": "8cf97873",
   "metadata": {},
   "outputs": [],
   "source": [
    ".to_csv(\"kyobo_book_시,에세이.csv\", encoding='utf-8-sig', index=False)"
   ]
  },
  {
   "cell_type": "code",
   "execution_count": null,
   "id": "54fb2675",
   "metadata": {},
   "outputs": [],
   "source": []
  }
 ],
 "metadata": {
  "kernelspec": {
   "display_name": "Python 3 (ipykernel)",
   "language": "python",
   "name": "python3"
  },
  "language_info": {
   "codemirror_mode": {
    "name": "ipython",
    "version": 3
   },
   "file_extension": ".py",
   "mimetype": "text/x-python",
   "name": "python",
   "nbconvert_exporter": "python",
   "pygments_lexer": "ipython3",
   "version": "3.9.7"
  }
 },
 "nbformat": 4,
 "nbformat_minor": 5
}
