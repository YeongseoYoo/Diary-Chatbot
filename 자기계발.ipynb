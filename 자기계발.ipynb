{
 "cells": [
  {
   "cell_type": "code",
   "execution_count": 1,
   "id": "20ecc793",
   "metadata": {},
   "outputs": [],
   "source": [
    "import requests\n",
    "from bs4 import BeautifulSoup\n",
    "import re"
   ]
  },
  {
   "cell_type": "code",
   "execution_count": 2,
   "id": "72488460",
   "metadata": {},
   "outputs": [],
   "source": [
    "import time\n",
    "import pandas\n",
    "from tqdm import tqdm\n",
    "from selenium import webdriver"
   ]
  },
  {
   "cell_type": "code",
   "execution_count": 3,
   "id": "b1e6becd",
   "metadata": {},
   "outputs": [],
   "source": [
    "from selenium.webdriver.common.keys import Keys\n",
    "from selenium.webdriver.common.action_chains import ActionChains\n",
    "from selenium.webdriver.common.by import By\n",
    "from selenium.webdriver.support.ui import WebDriverWait\n",
    "from selenium.webdriver.support import expected_conditions as EC"
   ]
  },
  {
   "cell_type": "code",
   "execution_count": 6,
   "id": "a8451edb",
   "metadata": {},
   "outputs": [],
   "source": [
    "def kyoboCrawling(a):\n",
    "    global book_list\n",
    "    for i in range(1, a):\n",
    "        title_xpath = '//*[@id=\"prd_list_type1\"]/li[' + str(2*i-1) + ']/div/div[1]/div[2]/div[1]/a/strong'\n",
    "        title_btn = driver.find_element(\"xpath\",title_xpath)\n",
    "        actions = webdriver.ActionChains(driver)\n",
    "        actions.move_to_element(title_btn).pause(2).click().perform()\n",
    "\n",
    "        book_title = driver.find_element(\"xpath\",'//*[@id=\"container\"]/div[2]/form/div[1]/h1/strong').text\n",
    "        book_info = driver.find_elements(By.CSS_SELECTOR, \".box_detail_article\")\n",
    "        book_review = []\n",
    "        book_review.append(book_info[0])\n",
    "        \n",
    "        for i in book_review:\n",
    "            review = i.text\n",
    "            book_list.append([book_title, review])           \n",
    "        \n",
    "        driver.back()\n",
    "        time.sleep(1)"
   ]
  },
  {
   "cell_type": "code",
   "execution_count": 7,
   "id": "d7034316",
   "metadata": {},
   "outputs": [
    {
     "name": "stderr",
     "output_type": "stream",
     "text": [
      "C:\\Users\\PC\\AppData\\Local\\Temp/ipykernel_28644/1560195352.py:2: DeprecationWarning: executable_path has been deprecated, please pass in a Service object\n",
      "  driver = webdriver.Chrome(\"C:/Users/PC/.jupyter/chromedriver_win32/chromedriver.exe\")\n"
     ]
    }
   ],
   "source": [
    "url = 'http://www.kyobobook.co.kr/categoryRenewal/categoryMain.laf?perPage=20&mallGb=KOR&linkClass=15&menuCode=002'\n",
    "driver = webdriver.Chrome(\"C:/Users/PC/.jupyter/chromedriver_win32/chromedriver.exe\")\n",
    "driver.implicitly_wait(3)\n",
    "driver.get(url)\n",
    "book_list = []\n",
    "for i in range(1,9):\n",
    "    driver.execute_script(\"_go_targetPage('{}')\".format(i))\n",
    "    if i == 8:\n",
    "        a = 11\n",
    "    else:\n",
    "        a = 21\n",
    "        \n",
    "    kyoboCrawling(a)"
   ]
  },
  {
   "cell_type": "code",
   "execution_count": 8,
   "id": "57848461",
   "metadata": {},
   "outputs": [
    {
     "data": {
      "text/html": [
       "<div>\n",
       "<style scoped>\n",
       "    .dataframe tbody tr th:only-of-type {\n",
       "        vertical-align: middle;\n",
       "    }\n",
       "\n",
       "    .dataframe tbody tr th {\n",
       "        vertical-align: top;\n",
       "    }\n",
       "\n",
       "    .dataframe thead th {\n",
       "        text-align: right;\n",
       "    }\n",
       "</style>\n",
       "<table border=\"1\" class=\"dataframe\">\n",
       "  <thead>\n",
       "    <tr style=\"text-align: right;\">\n",
       "      <th></th>\n",
       "      <th>0</th>\n",
       "      <th>1</th>\n",
       "    </tr>\n",
       "  </thead>\n",
       "  <tbody>\n",
       "    <tr>\n",
       "      <th>0</th>\n",
       "      <td>역행자</td>\n",
       "      <td>대부분의 사람들은 유전자와 본성의 명령을 그대로 따르기 때문에 평범함을 벗어날 수 ...</td>\n",
       "    </tr>\n",
       "    <tr>\n",
       "      <th>1</th>\n",
       "      <td>호감 가는 말투에는 비밀이 있다</td>\n",
       "      <td>“갈등은 줄이고 기회와 사람은 끌어당긴다”\\n\\n직장 동료, 남녀 간, 고집 센 상...</td>\n",
       "    </tr>\n",
       "    <tr>\n",
       "      <th>2</th>\n",
       "      <td>나를 내려놓으니 내가 좋아졌다</td>\n",
       "      <td>#나답게 사는 것#몸도 마음도 지칠 때\\n#쉬고 싶은 마음이 드는 순간#타인을 대하...</td>\n",
       "    </tr>\n",
       "    <tr>\n",
       "      <th>3</th>\n",
       "      <td>기억력 천재 게으른 뇌를 깨워라</td>\n",
       "      <td>스마트폰이 모든 것을 대신해주는 시대다. 친구의 전화번호도, 기억해야 할 기념일도,...</td>\n",
       "    </tr>\n",
       "    <tr>\n",
       "      <th>4</th>\n",
       "      <td>내 삶을 변화시키는 감사의 기적</td>\n",
       "      <td>『내 삶을 변화시키는 감사의 기적』은 감사의 의미를 새삼 되새기게 하고, 일상에서 ...</td>\n",
       "    </tr>\n",
       "    <tr>\n",
       "      <th>...</th>\n",
       "      <td>...</td>\n",
       "      <td>...</td>\n",
       "    </tr>\n",
       "    <tr>\n",
       "      <th>145</th>\n",
       "      <td>당신은 일을 못하는 게 아니라 말을 못하는 겁니다</td>\n",
       "      <td>“일만 열심히 하면 언젠간 알아주시겠지.” 누가 알아주지 않아도 묵묵히 자기 할 일...</td>\n",
       "    </tr>\n",
       "    <tr>\n",
       "      <th>146</th>\n",
       "      <td>꿈꾸는 다락방</td>\n",
       "      <td>10주년 개정증보판 『꿈꾸는 다락방』. 꿈보다 생존에 대한 불안으로 가득한 대한민국...</td>\n",
       "    </tr>\n",
       "    <tr>\n",
       "      <th>147</th>\n",
       "      <td>아주 보통의 행복</td>\n",
       "      <td>스테디셀러 『프레임』, 『굿 라이프』를 잇는 서울대 최인철 교수의 신작 『아주 보통...</td>\n",
       "    </tr>\n",
       "    <tr>\n",
       "      <th>148</th>\n",
       "      <td>심플하게 산다</td>\n",
       "      <td>『심플하게 산다』는 동양적인 아름다움에 빠져 1970년대 말부터 일본에 살기 시작한...</td>\n",
       "    </tr>\n",
       "    <tr>\n",
       "      <th>149</th>\n",
       "      <td>사컬로지</td>\n",
       "      <td>축구는 인생의 축소판이라는 말이 있다. 축구장에는 인생의 희로애락, 역경을 극복하며...</td>\n",
       "    </tr>\n",
       "  </tbody>\n",
       "</table>\n",
       "<p>150 rows × 2 columns</p>\n",
       "</div>"
      ],
      "text/plain": [
       "                               0  \\\n",
       "0                            역행자   \n",
       "1              호감 가는 말투에는 비밀이 있다   \n",
       "2               나를 내려놓으니 내가 좋아졌다   \n",
       "3              기억력 천재 게으른 뇌를 깨워라   \n",
       "4              내 삶을 변화시키는 감사의 기적   \n",
       "..                           ...   \n",
       "145  당신은 일을 못하는 게 아니라 말을 못하는 겁니다   \n",
       "146                      꿈꾸는 다락방   \n",
       "147                    아주 보통의 행복   \n",
       "148                      심플하게 산다   \n",
       "149                         사컬로지   \n",
       "\n",
       "                                                     1  \n",
       "0    대부분의 사람들은 유전자와 본성의 명령을 그대로 따르기 때문에 평범함을 벗어날 수 ...  \n",
       "1    “갈등은 줄이고 기회와 사람은 끌어당긴다”\\n\\n직장 동료, 남녀 간, 고집 센 상...  \n",
       "2    #나답게 사는 것#몸도 마음도 지칠 때\\n#쉬고 싶은 마음이 드는 순간#타인을 대하...  \n",
       "3    스마트폰이 모든 것을 대신해주는 시대다. 친구의 전화번호도, 기억해야 할 기념일도,...  \n",
       "4    『내 삶을 변화시키는 감사의 기적』은 감사의 의미를 새삼 되새기게 하고, 일상에서 ...  \n",
       "..                                                 ...  \n",
       "145  “일만 열심히 하면 언젠간 알아주시겠지.” 누가 알아주지 않아도 묵묵히 자기 할 일...  \n",
       "146  10주년 개정증보판 『꿈꾸는 다락방』. 꿈보다 생존에 대한 불안으로 가득한 대한민국...  \n",
       "147  스테디셀러 『프레임』, 『굿 라이프』를 잇는 서울대 최인철 교수의 신작 『아주 보통...  \n",
       "148  『심플하게 산다』는 동양적인 아름다움에 빠져 1970년대 말부터 일본에 살기 시작한...  \n",
       "149  축구는 인생의 축소판이라는 말이 있다. 축구장에는 인생의 희로애락, 역경을 극복하며...  \n",
       "\n",
       "[150 rows x 2 columns]"
      ]
     },
     "execution_count": 8,
     "metadata": {},
     "output_type": "execute_result"
    }
   ],
   "source": [
    "df = pandas.DataFrame(book_list)\n",
    "df  "
   ]
  },
  {
   "cell_type": "code",
   "execution_count": 9,
   "id": "79ab72a4",
   "metadata": {},
   "outputs": [],
   "source": [
    "df.to_csv(\"kyobo_book_자기계발.csv\", encoding='utf-8-sig', index=False)"
   ]
  },
  {
   "cell_type": "code",
   "execution_count": null,
   "id": "8166f680",
   "metadata": {},
   "outputs": [],
   "source": []
  }
 ],
 "metadata": {
  "kernelspec": {
   "display_name": "Python 3 (ipykernel)",
   "language": "python",
   "name": "python3"
  },
  "language_info": {
   "codemirror_mode": {
    "name": "ipython",
    "version": 3
   },
   "file_extension": ".py",
   "mimetype": "text/x-python",
   "name": "python",
   "nbconvert_exporter": "python",
   "pygments_lexer": "ipython3",
   "version": "3.9.7"
  }
 },
 "nbformat": 4,
 "nbformat_minor": 5
}
