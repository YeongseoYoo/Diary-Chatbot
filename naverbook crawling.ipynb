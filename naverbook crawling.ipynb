{
 "cells": [
  {
   "cell_type": "code",
   "execution_count": null,
   "id": "fa9aa646",
   "metadata": {},
   "outputs": [],
   "source": [
    "#네이버 북 크롤링\n",
    "for i in range(1,99):\n",
    "    url = \"https://book.naver.com/category/index.naver?cate_code=120&tab=recommend&list_type=list&sort_type=salecount&page={}\".format(i)\n",
    "    res = requests.get(url)\n",
    "    res.raise_for_status()\n",
    "    soup = BeautifulSoup(res.text, \"lxml\") #우리가 가져온 html 문서를 -> 뷰티풀숲 객체로 만든다.\n",
    "\n",
    "    books = soup.find_all(\"a\", attrs={\"class\":\"N=a:bta.title\"})\n",
    "    \n",
    "    for book in books:\n",
    "        book_url = book[\"href\"]\n",
    "        try:\n",
    "            book_res=requests.get(book_url)\n",
    "            book_res.raise_for_status()\n",
    "\n",
    "            soup2 = BeautifulSoup(book_res.text, \"lxml\")\n",
    "\n",
    "            criticism = soup2.find(\"li\", attrs={\"class\":\"d_tab2\"})\n",
    "\n",
    "            if criticism:\n",
    "                criticism_url = 'https://book.naver.com' + str(criticism.a['href'])\n",
    "                criticism_res = requests.get(criticism_url)\n",
    "                criticism_res.raise_for_status()\n",
    "\n",
    "                soup3 = BeautifulSoup(criticism_res.text, \"lxml\")\n",
    "\n",
    "                pcriticism = soup3.find(\"div\", attrs={\"id\":\"pubReviewContent\"})\n",
    "                review = pcriticism.p.get_text()\n",
    "                #print(f\"출판사서평: {review}\")\n",
    "                criticism_list.append(review)\n",
    "                #print()\n",
    "            else:\n",
    "                personreview = soup2.find(\"div\", attrs={\"id\":\"bookIntroContent\"})\n",
    "                if personreview:\n",
    "                    ppreview = personreview.get_text()\n",
    "                    #print(f\"책소개: {ppreview}\")\n",
    "                    criticism_list.append(ppreview)\n",
    "                    #print()\n",
    "                else:\n",
    "                    #print(\"서평없음\")\n",
    "                    criticism_list.append(\"X\")\n",
    "        except:\n",
    "            continue"
   ]
  }
 ],
 "metadata": {
  "kernelspec": {
   "display_name": "Python 3 (ipykernel)",
   "language": "python",
   "name": "python3"
  },
  "language_info": {
   "codemirror_mode": {
    "name": "ipython",
    "version": 3
   },
   "file_extension": ".py",
   "mimetype": "text/x-python",
   "name": "python",
   "nbconvert_exporter": "python",
   "pygments_lexer": "ipython3",
   "version": "3.9.7"
  }
 },
 "nbformat": 4,
 "nbformat_minor": 5
}
