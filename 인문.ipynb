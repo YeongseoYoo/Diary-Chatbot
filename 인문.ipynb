{
 "cells": [
  {
   "cell_type": "code",
   "execution_count": 1,
   "id": "7b115f49",
   "metadata": {},
   "outputs": [],
   "source": [
    "import requests\n",
    "from bs4 import BeautifulSoup\n",
    "import re"
   ]
  },
  {
   "cell_type": "code",
   "execution_count": 2,
   "id": "eb0c9db1",
   "metadata": {},
   "outputs": [],
   "source": [
    "import time\n",
    "import pandas\n",
    "from tqdm import tqdm\n",
    "from selenium import webdriver"
   ]
  },
  {
   "cell_type": "code",
   "execution_count": 3,
   "id": "e68d6515",
   "metadata": {},
   "outputs": [],
   "source": [
    "from selenium.webdriver.common.keys import Keys\n",
    "from selenium.webdriver.common.action_chains import ActionChains\n",
    "from selenium.webdriver.common.by import By\n",
    "from selenium.webdriver.support.ui import WebDriverWait\n",
    "from selenium.webdriver.support import expected_conditions as EC"
   ]
  },
  {
   "cell_type": "code",
   "execution_count": 4,
   "id": "9502fa54",
   "metadata": {},
   "outputs": [],
   "source": [
    "def kyoboCrawling(a):\n",
    "    global book_list\n",
    "    for i in range(1, a):\n",
    "        title_xpath = '//*[@id=\"prd_list_type1\"]/li[' + str(2*i-1) + ']/div/div[1]/div[2]/div[1]/a/strong'\n",
    "        title_btn = driver.find_element(\"xpath\",title_xpath)\n",
    "        actions = webdriver.ActionChains(driver)\n",
    "        actions.move_to_element(title_btn).pause(2).click().perform()\n",
    "\n",
    "        book_title = driver.find_element(\"xpath\",'//*[@id=\"container\"]/div[2]/form/div[1]/h1/strong').text\n",
    "        book_info = driver.find_elements(By.CSS_SELECTOR, \".box_detail_article\")\n",
    "        book_review = []\n",
    "        book_review.append(book_info[0])\n",
    "        \n",
    "        for i in book_review:\n",
    "            review = i.text\n",
    "            book_list.append([book_title, review])           \n",
    "        \n",
    "        driver.back()\n",
    "        time.sleep(1)"
   ]
  },
  {
   "cell_type": "code",
   "execution_count": 5,
   "id": "ea9620fb",
   "metadata": {},
   "outputs": [
    {
     "name": "stderr",
     "output_type": "stream",
     "text": [
      "C:\\Users\\PC\\AppData\\Local\\Temp/ipykernel_12592/2814890073.py:2: DeprecationWarning: executable_path has been deprecated, please pass in a Service object\n",
      "  driver = webdriver.Chrome(\"C:/Users/PC/.jupyter/chromedriver_win32/chromedriver.exe\")\n"
     ]
    }
   ],
   "source": [
    "url = 'http://www.kyobobook.co.kr/categoryRenewal/categoryMain.laf?perPage=20&mallGb=KOR&linkClass=05&menuCode=002'\n",
    "driver = webdriver.Chrome(\"C:/Users/PC/.jupyter/chromedriver_win32/chromedriver.exe\")\n",
    "driver.implicitly_wait(3)\n",
    "driver.get(url)\n",
    "book_list = []\n",
    "for i in range(1,9):\n",
    "    driver.execute_script(\"_go_targetPage('{}')\".format(i))\n",
    "    if i == 8:\n",
    "        a = 11\n",
    "    else:\n",
    "        a = 21\n",
    "        \n",
    "    kyoboCrawling(a)"
   ]
  },
  {
   "cell_type": "code",
   "execution_count": 6,
   "id": "21be38a6",
   "metadata": {},
   "outputs": [
    {
     "data": {
      "text/html": [
       "<div>\n",
       "<style scoped>\n",
       "    .dataframe tbody tr th:only-of-type {\n",
       "        vertical-align: middle;\n",
       "    }\n",
       "\n",
       "    .dataframe tbody tr th {\n",
       "        vertical-align: top;\n",
       "    }\n",
       "\n",
       "    .dataframe thead th {\n",
       "        text-align: right;\n",
       "    }\n",
       "</style>\n",
       "<table border=\"1\" class=\"dataframe\">\n",
       "  <thead>\n",
       "    <tr style=\"text-align: right;\">\n",
       "      <th></th>\n",
       "      <th>0</th>\n",
       "      <th>1</th>\n",
       "    </tr>\n",
       "  </thead>\n",
       "  <tbody>\n",
       "    <tr>\n",
       "      <th>0</th>\n",
       "      <td>유럽 도시 기행 2</td>\n",
       "      <td>\"이 책은 힘들게 마음먹은 유럽 도시를 알차고 풍성하게 여행하거나 미디어를 통해 어...</td>\n",
       "    </tr>\n",
       "    <tr>\n",
       "      <th>1</th>\n",
       "      <td>최재천의 공부</td>\n",
       "      <td>《최재천의 공부》는 동물과 인간을 깊이 관찰해온 최재천 교수가 10여 년 전부터 꼭...</td>\n",
       "    </tr>\n",
       "    <tr>\n",
       "      <th>2</th>\n",
       "      <td>2022 큰별쌤 최태성의 별별한국사 한국사능력검정시험 심화(1, 2, 3급)(상)</td>\n",
       "      <td>오랜 연구와 검증으로 한국사에 기초가 전혀 없는 사람도 단기간에 한능검에 합격할 수...</td>\n",
       "    </tr>\n",
       "    <tr>\n",
       "      <th>3</th>\n",
       "      <td>눈물 한 방울</td>\n",
       "      <td>탁월한 통찰력으로 문명의 패러다임을 제시해온 시대의 지성 이어령이 생의 마지막 순간...</td>\n",
       "    </tr>\n",
       "    <tr>\n",
       "      <th>4</th>\n",
       "      <td>2022 큰별쌤 최태성의 별별한국사 한국사능력검정시험 심화(1, 2, 3급)(하)</td>\n",
       "      <td>오랜 연구와 검증으로 한국사에 기초가 전혀 없는 사람도 단기간에 한능검에 합격할 수...</td>\n",
       "    </tr>\n",
       "    <tr>\n",
       "      <th>...</th>\n",
       "      <td>...</td>\n",
       "      <td>...</td>\n",
       "    </tr>\n",
       "    <tr>\n",
       "      <th>145</th>\n",
       "      <td>생각의 탄생</td>\n",
       "      <td>『생각의 탄생』은 분야를 넘나들며 창조성을 빛낸 사람들의 13가지 생각도구를 전해주...</td>\n",
       "    </tr>\n",
       "    <tr>\n",
       "      <th>146</th>\n",
       "      <td>공감하는 유전자</td>\n",
       "      <td>우리는 지금 인류가 저지른 대가를 혹독하게 치르고 있다. 전쟁, 가난, 혐오, 파괴...</td>\n",
       "    </tr>\n",
       "    <tr>\n",
       "      <th>147</th>\n",
       "      <td>어른의 어휘력</td>\n",
       "      <td>대한민국의 ‘어른’은 대체로 고등학교를 졸업하면 따로 어휘를 외운다든가, 어휘력을 ...</td>\n",
       "    </tr>\n",
       "    <tr>\n",
       "      <th>148</th>\n",
       "      <td>미래의 피해자들은 이겼다</td>\n",
       "      <td>차별과 사회적 고립이 소수자의 몸을 어떻게 아프게 하는지 질병의 원인을 개인이 공동...</td>\n",
       "    </tr>\n",
       "    <tr>\n",
       "      <th>149</th>\n",
       "      <td>돈으로 살 수 없는 것들</td>\n",
       "      <td>『돈으로 살 수 없는 것들: 무엇이 가치를 결정하는가』는 &lt;정의는 무엇인가&gt;로 화제...</td>\n",
       "    </tr>\n",
       "  </tbody>\n",
       "</table>\n",
       "<p>150 rows × 2 columns</p>\n",
       "</div>"
      ],
      "text/plain": [
       "                                                 0  \\\n",
       "0                                       유럽 도시 기행 2   \n",
       "1                                          최재천의 공부   \n",
       "2    2022 큰별쌤 최태성의 별별한국사 한국사능력검정시험 심화(1, 2, 3급)(상)   \n",
       "3                                          눈물 한 방울   \n",
       "4    2022 큰별쌤 최태성의 별별한국사 한국사능력검정시험 심화(1, 2, 3급)(하)   \n",
       "..                                             ...   \n",
       "145                                         생각의 탄생   \n",
       "146                                       공감하는 유전자   \n",
       "147                                        어른의 어휘력   \n",
       "148                                  미래의 피해자들은 이겼다   \n",
       "149                                  돈으로 살 수 없는 것들   \n",
       "\n",
       "                                                     1  \n",
       "0    \"이 책은 힘들게 마음먹은 유럽 도시를 알차고 풍성하게 여행하거나 미디어를 통해 어...  \n",
       "1    《최재천의 공부》는 동물과 인간을 깊이 관찰해온 최재천 교수가 10여 년 전부터 꼭...  \n",
       "2    오랜 연구와 검증으로 한국사에 기초가 전혀 없는 사람도 단기간에 한능검에 합격할 수...  \n",
       "3    탁월한 통찰력으로 문명의 패러다임을 제시해온 시대의 지성 이어령이 생의 마지막 순간...  \n",
       "4    오랜 연구와 검증으로 한국사에 기초가 전혀 없는 사람도 단기간에 한능검에 합격할 수...  \n",
       "..                                                 ...  \n",
       "145  『생각의 탄생』은 분야를 넘나들며 창조성을 빛낸 사람들의 13가지 생각도구를 전해주...  \n",
       "146  우리는 지금 인류가 저지른 대가를 혹독하게 치르고 있다. 전쟁, 가난, 혐오, 파괴...  \n",
       "147  대한민국의 ‘어른’은 대체로 고등학교를 졸업하면 따로 어휘를 외운다든가, 어휘력을 ...  \n",
       "148  차별과 사회적 고립이 소수자의 몸을 어떻게 아프게 하는지 질병의 원인을 개인이 공동...  \n",
       "149  『돈으로 살 수 없는 것들: 무엇이 가치를 결정하는가』는 <정의는 무엇인가>로 화제...  \n",
       "\n",
       "[150 rows x 2 columns]"
      ]
     },
     "execution_count": 6,
     "metadata": {},
     "output_type": "execute_result"
    }
   ],
   "source": [
    "df = pandas.DataFrame(book_list)\n",
    "df  "
   ]
  },
  {
   "cell_type": "code",
   "execution_count": 7,
   "id": "7c5c0de7",
   "metadata": {},
   "outputs": [],
   "source": [
    "df.to_csv(\"kyobo_book_인문.csv\", encoding='utf-8-sig', index=False)"
   ]
  },
  {
   "cell_type": "code",
   "execution_count": null,
   "id": "00e9cda4",
   "metadata": {},
   "outputs": [],
   "source": []
  }
 ],
 "metadata": {
  "kernelspec": {
   "display_name": "Python 3 (ipykernel)",
   "language": "python",
   "name": "python3"
  },
  "language_info": {
   "codemirror_mode": {
    "name": "ipython",
    "version": 3
   },
   "file_extension": ".py",
   "mimetype": "text/x-python",
   "name": "python",
   "nbconvert_exporter": "python",
   "pygments_lexer": "ipython3",
   "version": "3.9.7"
  }
 },
 "nbformat": 4,
 "nbformat_minor": 5
}
