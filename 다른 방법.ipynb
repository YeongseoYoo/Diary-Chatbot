{
 "cells": [
  {
   "cell_type": "code",
   "execution_count": 3,
   "id": "ede02ecb",
   "metadata": {},
   "outputs": [
    {
     "name": "stdout",
     "output_type": "stream",
     "text": [
      "Requirement already satisfied: cssselect in c:\\users\\pc\\anaconda3\\lib\\site-packages (1.1.0)\n"
     ]
    }
   ],
   "source": [
    "import requests # 웹페이지를 불러오기 위한 패키지\n",
    "import lxml.html\n",
    "from selenium import webdriver\n",
    "from selenium.webdriver.common.keys import Keys\n",
    "from selenium.webdriver.common.action_chains import ActionChains\n",
    "from selenium.webdriver.common.by import By\n",
    "from selenium.webdriver.support.ui import WebDriverWait\n",
    "from selenium.webdriver.support import expected_conditions as EC\n",
    "import time\n",
    "import pandas as pd\n",
    "!pip install cssselect"
   ]
  },
  {
   "cell_type": "code",
   "execution_count": 4,
   "id": "fe9a60bf",
   "metadata": {},
   "outputs": [
    {
     "data": {
      "text/plain": [
       "200"
      ]
     },
     "execution_count": 4,
     "metadata": {},
     "output_type": "execute_result"
    }
   ],
   "source": [
    "url='http://www.kyobobook.co.kr/categoryRenewal/categoryMain.laf?perPage=20&mallGb=KOR&linkClass=03&menuCode=002'\n",
    "r=requests.get(url)\n",
    "r.status_code"
   ]
  },
  {
   "cell_type": "code",
   "execution_count": 5,
   "id": "58e620bf",
   "metadata": {},
   "outputs": [
    {
     "name": "stdout",
     "output_type": "stream",
     "text": [
      "['당신이라는 기적', '당신이라는 기적', '기분을 관리하면 인생이 관리된다', '기분을 관리하면 인생이 관리된다', '나라면 나와 결혼할까?', '나라면 나와 결혼할까?', '나는 당신이 행복했으면 좋겠습니다', '나는 당신이 행복했으면 좋겠습니다', '당신은 결국 무엇이든 해내는 사람', '당신은 결국 무엇이든 해내는 사람', '모든 것은 기본에서 시작한다', '모든 것은 기본에서 시작한다', '잘했고 잘하고 있고 잘 될 것이다(20만 부 기념 개정판)', '잘했고 잘하고 있고 잘 될 것이다(20만 부 기념 개정판)', '마음을 업데이트할 시간입니다', '마음을 업데이트할 시간입니다', '한 개의 기쁨이 천 개의 슬픔을 이긴다: 삶과 태도에 관하여(조우성 변호사 에세이 1)', '한 개의 기쁨이 천 개의 슬픔을 이긴다: 삶과 태도에 관하여(조우성 변호사 에세이 1)', '매일을 헤엄치는 법 (친필사인 미포함 일반판)', '매일을 헤엄치는 법 (친필사인 미포함 일반판)', '나로서 충분히 괜찮은 사람', '나로서 충분히 괜찮은 사람', '너무 잘하려고 애쓰지 마라', '너무 잘하려고 애쓰지 마라', '학문의 즐거움(4판)(양장본 HardCover)', '학문의 즐거움(4판)(양장본 HardCover)', '한 개의 기쁨이 천 개의 슬픔을 이긴다: 일과 선택에 관하여(조우성 변호사 에세이 2)', '한 개의 기쁨이 천 개의 슬픔을 이긴다: 일과 선택에 관하여(조우성 변호사 에세이 2)', 'H마트에서 울다', 'H마트에서 울다', '누구에게도 상처받을 필요는 없다', '누구에게도 상처받을 필요는 없다', '꽃을 보듯 너를 본다(J.H CLASSIC 2)(양장본 HardCover)', '꽃을 보듯 너를 본다(J.H CLASSIC 2)(양장본 HardCover)', '가장 예쁜 생각을 너에게 주고 싶다(15만부 기념 교보문고 단독 리커버)', '가장 예쁜 생각을 너에게 주고 싶다(15만부 기념 교보문고 단독 리커버)', '너의 하늘을 보아(양장본 HardCover)', '너의 하늘을 보아(양장본 HardCover)', '나에게 고맙다(30만 부 기념 전면 개정판)', '나에게 고맙다(30만 부 기념 전면 개정판)']\n",
      "[]\n"
     ]
    }
   ],
   "source": [
    "root = lxml.html.fromstring(r.content) # 불러온 웹페이지를 조회하고 html 모듈로 파싱할 것이다.# text보다 content가 좋음 왜냐면 html.fromstring은 묵시적으로 byte를 인풋하기 때문이다.\n",
    "titles=root.cssselect(' div.title >a > strong') \n",
    "prices=root.cssselect('div.price > strong.sell_price')\n",
    "authors=root.cssselect('div.detail > div.author')\n",
    "reviews = root.cssselect('div.content_left > div:nth-child(5) > div:nth-child(10)')\n",
    "\n",
    "#prd_list_type1 > li:nth-child(17) > div > div.info_area > div.detail > div.price > strong.sell_price\n",
    "#prd_list_type1 > li:nth-child(17) > div > div.info_area > div.detail > div.pub_info > span.author\n",
    "#container > div:nth-child(7) > div.content_left > div:nth-child(5) > div:nth-child(10)\n",
    "#container > div:nth-child(7) > div.content_left > div:nth-child(5) > div:nth-child(10)\n",
    "\n",
    "\n",
    "titlelists=[]\n",
    "pricelists=[]\n",
    "authorlists=[]\n",
    "reviewlists = []\n",
    "\n",
    "for i in range(len(titles)):\n",
    "    titlelists.append(titles[i].text.strip())\n",
    "    \n",
    "for i in range(len(reviews)):\n",
    "    reviewlists.append(reviews[i].text.strip())\n",
    "    \n",
    "  \n",
    "\n",
    "print(titlelists)\n",
    "print(reviewlists)"
   ]
  },
  {
   "cell_type": "code",
   "execution_count": null,
   "id": "4927d477",
   "metadata": {},
   "outputs": [],
   "source": [
    "import requests\n",
    "import re \n",
    "from bs4 import BeautifulSoup\n",
    "\n",
    "criticism_list=[]\n",
    "\n",
    "for i in range(1,9):\n",
    "    url = \"http://www.kyobobook.co.kr/categoryRenewal/categoryMain.laf?perPage=20&mallGb=KOR&linkClass=03&menuCode=002\".format(i)\n",
    "    res = requests.get(url)\n",
    "    res.raise_for_status()\n",
    "    soup = BeautifulSoup(res.text, \"lxml\") #우리가 가져온 html 문서를 -> 뷰티풀숲 객체로 만든다.\n",
    "\n",
    "    books = soup.find_all(\"div\", attrs={\"class\":\"title\"})\n",
    "   \n",
    "    for book in books:\n",
    "        book_url = book[\"href\"]\n",
    "        book_res=requests.get(book_url)\n",
    "        book_res.raise_for_status()\n",
    "        \n",
    "        soup2 = BeautifulSoup(book_res.text, \"lxml\")\n",
    "        \n",
    "        if criticism:\n",
    "            criticism_url = 'http://www.kyobobook.co.kr/' + str(criticism.a['href'])\n",
    "            criticism_res = requests.get(criticism_url)\n",
    "            criticism_res.raise_for_status()\n",
    "            \n"
   ]
  }
 ],
 "metadata": {
  "kernelspec": {
   "display_name": "Python 3 (ipykernel)",
   "language": "python",
   "name": "python3"
  },
  "language_info": {
   "codemirror_mode": {
    "name": "ipython",
    "version": 3
   },
   "file_extension": ".py",
   "mimetype": "text/x-python",
   "name": "python",
   "nbconvert_exporter": "python",
   "pygments_lexer": "ipython3",
   "version": "3.9.7"
  }
 },
 "nbformat": 4,
 "nbformat_minor": 5
}
